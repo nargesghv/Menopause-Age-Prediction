{
 "cells": [
  {
   "cell_type": "markdown",
   "id": "d64c5ca7",
   "metadata": {},
   "source": [
    "# 📚 Synthetic Menopause Dataset Creation"
   ]
  },
  {
   "cell_type": "code",
   "execution_count": null,
   "id": "3693f7d4",
   "metadata": {},
   "outputs": [],
   "source": [
    "# -- Imports --\n",
    "import pandas as pd\n",
    "import numpy as np\n",
    "import random\n",
    "\n",
    "# -- Seed for reproducibility --\n",
    "random.seed(42)\n",
    "np.random.seed(42)\n",
    "\n",
    "# -- Generate Subject Names --\n",
    "names = [f\"Subject_{i+1}\" for i in range(20)]"
   ]
  },
  {
   "cell_type": "code",
   "execution_count": null,
   "id": "f6b2ca4b",
   "metadata": {},
   "outputs": [],
   "source": [
    "# -- Helper Function --\n",
    "def random_choice(options, weights=None):\n",
    "    return random.choices(options, weights=weights, k=1)[0]\n",
    "\n",
    "# -- Dataset Generation Function --\n",
    "def generate_dataset():\n",
    "    data = []\n",
    "    for name in names:\n",
    "        age = random.randint(35, 55)\n",
    "        bmi = round(random.uniform(18.5, 35.0), 1)\n",
    "        smoking = random_choice([\"Yes\", \"No\"], [0.3, 0.7])\n",
    "        alcohol = random_choice([\"None\", \"Low\", \"Moderate\", \"High\"], [0.2, 0.4, 0.3, 0.1])\n",
    "        physical_activity = random_choice([\"Low\", \"Moderate\", \"High\"], [0.3, 0.5, 0.2])\n",
    "        parity = random.randint(0, 5)\n",
    "        age_first_child = random.randint(18, 35) if parity > 0 else None\n",
    "        oral_contraceptive = random_choice([\"Yes\", \"No\"], [0.6, 0.4])\n",
    "        education = random_choice([\"Primary\", \"Secondary\", \"Tertiary\"], [0.2, 0.4, 0.4])\n",
    "        employment = random_choice([\"Employed\", \"Unemployed\"])\n",
    "        socioeconomic = random_choice([\"Low\", \"Middle\", \"High\"], [0.3, 0.5, 0.2])\n",
    "        ethnicity = random_choice([\"Caucasian\", \"Asian\", \"African\", \"Hispanic\"])\n",
    "        menstrual_irregularity = random_choice([\"Yes\", \"No\"], [0.4, 0.6])\n",
    "        mother_menopause_age = random.randint(40, 55)\n",
    "        environmental_exposure = random_choice([\"Yes\", \"No\"], [0.2, 0.8])\n",
    "        breastfeeding = random_choice([\"None\", \"<6 months\", \"6+ months\"], [0.2, 0.4, 0.4])\n",
    "        sexual_activity = random_choice([\"Weekly\", \"Monthly\", \"Rarely\"], [0.4, 0.4, 0.2])\n",
    "\n",
    "        menopause_age = (\n",
    "            50\n",
    "            + (0.5 if smoking == \"No\" else -1)\n",
    "            + (0.5 if alcohol in [\"Low\", \"Moderate\"] else -0.5)\n",
    "            + (1 if physical_activity == \"High\" else 0)\n",
    "            + (0.3 * parity)\n",
    "            + (1 if oral_contraceptive == \"Yes\" else -0.5)\n",
    "            + (0.5 if education == \"Tertiary\" else -0.5)\n",
    "            + (1 if socioeconomic == \"High\" else -1)\n",
    "            + (0.5 if breastfeeding == \"6+ months\" else -0.5)\n",
    "            + (0.5 if sexual_activity == \"Weekly\" else -0.5)\n",
    "            + np.random.normal(0, 1)\n",
    "        )\n",
    "        menopause_age = round(min(max(menopause_age, 40), 60), 1)\n",
    "\n",
    "        data.append([\n",
    "            name, age, bmi, parity, mother_menopause_age, menopause_age\n",
    "        ])\n",
    "\n",
    "    columns = [\n",
    "        \"Name\", \"Current_Age\", \"BMI\", \"Parity\", \"Mother_Menopause_Age\", \"Menopause_Age\"\n",
    "    ]\n",
    "\n",
    "    return pd.DataFrame(data, columns=columns)\n",
    "\n",
    "# -- Extend Dataset with Biomarkers --\n",
    "def extend_dataset(df):\n",
    "    df = df.copy()\n",
    "    df[\"FSH_Level_mIU_mL\"] = np.round(np.random.normal(25, 10, size=len(df)), 1)\n",
    "    df[\"LH_Level_mIU_mL\"] = np.round(np.random.normal(20, 7, size=len(df)), 1)\n",
    "    df[\"Estradiol_pg_mL\"] = np.round(np.random.normal(50, 20, size=len(df)), 1)\n",
    "    return df\n",
    "\n",
    "# -- Generate and Extend Dataset --\n",
    "df = generate_dataset()\n",
    "extended_df = extend_dataset(df)"
   ]
  },
  {
   "cell_type": "code",
   "execution_count": null,
   "id": "6c56b964",
   "metadata": {},
   "outputs": [],
   "source": [
    "# -- View the dataset --\n",
    "extended_df.head()"
   ]
  }
 ],
 "metadata": {
  "language_info": {
   "name": "python"
  }
 },
 "nbformat": 4,
 "nbformat_minor": 5
}
