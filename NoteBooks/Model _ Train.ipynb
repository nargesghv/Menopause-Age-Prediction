{
 "cells": [
  {
   "cell_type": "markdown",
   "id": "bd3c2d1b",
   "metadata": {},
   "source": [
    "# 📚 Menopause Age Prediction Model Training"
   ]
  },
  {
   "cell_type": "code",
   "execution_count": null,
   "id": "eb6efe7a",
   "metadata": {},
   "outputs": [],
   "source": [
    "# -- Imports --\n",
    "import pandas as pd\n",
    "import numpy as np\n",
    "import random\n",
    "import matplotlib.pyplot as plt\n",
    "import seaborn as sns\n",
    "\n",
    "from sklearn.model_selection import train_test_split\n",
    "from sklearn.linear_model import LinearRegression\n",
    "from sklearn.tree import DecisionTreeRegressor\n",
    "from sklearn.ensemble import RandomForestRegressor, GradientBoostingRegressor\n",
    "from sklearn.metrics import r2_score, mean_squared_error\n",
    "from sklearn.preprocessing import LabelEncoder\n",
    "\n",
    "# -- Load or Generate Dataset --\n",
    "# (If loading from file: df = pd.read_csv('path_to_file.csv'))\n",
    "# Assuming extended_df is available from previous notebook"
   ]
  },
  {
   "cell_type": "code",
   "execution_count": null,
   "id": "90e23f5e",
   "metadata": {},
   "outputs": [],
   "source": [
    "# -- Prepare Features and Target --\n",
    "X = extended_df.drop(columns=[\"Name\", \"Menopause_Age\"])\n",
    "y = extended_df[\"Menopause_Age\"]\n",
    "\n",
    "# Encode categorical features if any\n",
    "for col in X.select_dtypes(include=\"object\").columns:\n",
    "    X[col] = LabelEncoder().fit_transform(X[col].astype(str))\n",
    "\n",
    "# -- Split Data --\n",
    "X_train, X_test, y_train, y_test = train_test_split(X, y, test_size=0.2, random_state=42)"
   ]
  },
  {
   "cell_type": "code",
   "execution_count": null,
   "id": "bf8ec343",
   "metadata": {},
   "outputs": [],
   "source": [
    "# -- Define Models --\n",
    "models = {\n",
    "    \"Linear Regression\": LinearRegression(),\n",
    "    \"Decision Tree\": DecisionTreeRegressor(random_state=42),\n",
    "    \"Random Forest\": RandomForestRegressor(random_state=42),\n",
    "    \"Gradient Boosting\": GradientBoostingRegressor(random_state=42)\n",
    "}\n",
    "\n",
    "results = {}\n",
    "importances = {}\n",
    "\n",
    "# -- Train and Evaluate Models --\n",
    "for name, model in models.items():\n",
    "    model.fit(X_train, y_train)\n",
    "    y_pred = model.predict(X_test)\n",
    "    r2 = r2_score(y_test, y_pred)\n",
    "    mse = mean_squared_error(y_test, y_pred)\n",
    "    results[name] = {\"R2\": r2, \"MSE\": mse}\n",
    "    \n",
    "    # Feature importance\n",
    "    if hasattr(model, \"feature_importances_\"):\n",
    "        importances[name] = pd.Series(model.feature_importances_, index=X.columns)\n",
    "    elif hasattr(model, \"coef_\"):\n",
    "        importances[name] = pd.Series(model.coef_, index=X.columns).abs()\n",
    "\n",
    "# -- Compare Model Performance --\n",
    "score_df = pd.DataFrame(results).T.sort_values(by=\"R2\", ascending=False)"
   ]
  },
  {
   "cell_type": "code",
   "execution_count": null,
   "id": "e2b5f704",
   "metadata": {},
   "outputs": [],
   "source": [
    "plt.figure(figsize=(10, 6))\n",
    "sns.barplot(x=score_df.index, y=score_df[\"R2\"], palette=\"coolwarm\")\n",
    "plt.ylabel(\"R² Score (Accuracy)\")\n",
    "plt.title(\"Model Comparison Based on Accuracy (R²)\")\n",
    "plt.ylim(0, 1)\n",
    "plt.xticks(rotation=15)\n",
    "plt.grid(True)\n",
    "plt.tight_layout()\n",
    "plt.show()\n",
    "\n",
    "# -- Feature Importance of Best Model --\n",
    "best_model_name = score_df.index[0]\n",
    "plt.figure(figsize=(10, 6))\n",
    "importances[best_model_name].sort_values(ascending=False).plot(kind=\"bar\", color=\"teal\")\n",
    "plt.title(f\"Feature Importance - Best Model: {best_model_name}\")\n",
    "plt.ylabel(\"Importance Score\")\n",
    "plt.grid(True)\n",
    "plt.tight_layout()\n",
    "plt.show()"
   ]
  }
 ],
 "metadata": {
  "language_info": {
   "name": "python"
  }
 },
 "nbformat": 4,
 "nbformat_minor": 5
}
